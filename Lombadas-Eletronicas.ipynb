{
 "cells": [
  {
   "cell_type": "code",
   "execution_count": null,
   "metadata": {},
   "outputs": [],
   "source": [
    "# Processando dados de lombadas eletronicas de 2022:\n",
    "import pandas as pd\n",
    "\n",
    "url = \"http://dados.recife.pe.gov.br/dataset/71bd11f4-f312-4896-aa07-faecf4b0cad2/resource/9ad0939b-2a96-47dd-9532-d7499c8f79e3/download/fevereirolomb2022.csv\"\n",
    "\n",
    "lombadas = pd.read_csv(url)\n",
    "\n",
    "valores_nulos = lombadas.isnull().sum().sum()\n",
    "\n",
    "if valores_nulos > 0:\n",
    "    print(\"A quantidade total de valores nulos é de:\", valores_nulos)\n",
    "else:\n",
    "    print(\"Não há valores nulos no dataset.\")"
   ]
  },
  {
   "cell_type": "code",
   "execution_count": null,
   "metadata": {},
   "outputs": [],
   "source": [
    "import pandas as pd\n",
    "\n",
    "url = \"http://dados.recife.pe.gov.br/dataset/71bd11f4-f312-4896-aa07-faecf4b0cad2/resource/9ad0939b-2a96-47dd-9532-d7499c8f79e3/download/fevereirolomb2022.csv\"\n",
    "\n",
    "lombadas = pd.read_csv(url, sep=';')\n",
    "\n",
    "colunas_velocidade = [\n",
    "    \"qtd_0a10km\", \"qtd_11a20km\", \"qtd_21a30km\", \"qtd_31a40km\",\n",
    "    \"qtd_41a50km\", \"qtd_51a60km\", \"qtd_61a70km\", \"qtd_71a80km\",\n",
    "    \"qtd_81a90km\", \"qtd_91a100km\", \"qtd_acimade100km\"\n",
    "]\n",
    "\n",
    "# Encontrar linhas com contagem negativa de veículos\n",
    "inconsistencias_negativas = lombadas[colunas_velocidade][(lombadas[colunas_velocidade] < 0).any(axis=1)]\n",
    "if not inconsistencias_negativas.empty:\n",
    "    print(\"Inconsistências encontradas: contagens negativas de veículos:\\n\", inconsistencias_negativas)\n",
    "else:\n",
    "    print(\"Não há contagens negativas de veículos.\")\n",
    "\n",
    "# Verificando se a coluna 'data' tem valores em formato de data\n",
    "try:\n",
    "    lombadas['data'] = pd.to_datetime(lombadas['data'], errors='raise')\n",
    "    print(\"Coluna 'data' está no formato correto de data.\")\n",
    "except ValueError as e:\n",
    "    print(\"Inconsistências na coluna 'data':\", e)\n",
    "\n",
    "# Verificando tipo de dado nas colunas numéricas\n",
    "colunas_numericas = ['ano', 'mes', 'equipamento', 'faixa', 'hora'] + colunas_velocidade\n",
    "tipos_incorretos = lombadas[colunas_numericas].apply(lambda col: ~col.apply(lambda x: isinstance(x, (int, float)))).any()\n",
    "\n",
    "if tipos_incorretos.any():\n",
    "    print(\"Inconsistências encontradas: colunas numéricas com tipos de dados incorretos:\")\n",
    "    print(tipos_incorretos[tipos_incorretos].index.tolist())\n",
    "else:\n",
    "    print(\"Todas as colunas numéricas estão com os tipos de dados corretos.\")\n"
   ]
  }
 ],
 "metadata": {
  "kernelspec": {
   "display_name": ".venv",
   "language": "python",
   "name": "python3"
  },
  "language_info": {
   "codemirror_mode": {
    "name": "ipython",
    "version": 3
   },
   "file_extension": ".py",
   "mimetype": "text/x-python",
   "name": "python",
   "nbconvert_exporter": "python",
   "pygments_lexer": "ipython3",
   "version": "3.12.3"
  }
 },
 "nbformat": 4,
 "nbformat_minor": 2
}
