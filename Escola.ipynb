{
 "cells": [
  {
   "cell_type": "code",
   "execution_count": 16,
   "metadata": {},
   "outputs": [
    {
     "name": "stdout",
     "output_type": "stream",
     "text": [
      "O orçamento total foi de: 24,649,428.00 R$\n"
     ]
    }
   ],
   "source": [
    "import pandas as pd\n",
    "\n",
    "url = \"https://drive.usercontent.google.com/download?id=1Jgto7psHaMRTAVzcFt7D6SgJiHMB7uGT\"\n",
    "\n",
    "escolas = pd.read_csv(url)\n",
    "\n",
    "orcamento_total = escolas[\"Orcamento_Anual\"].sum()\n",
    "\n",
    "# Qual foi o orçamento total das escolas?\n",
    "print(f\"O orçamento total foi de: {orcamento_total:,.2f} R$\")"
   ]
  },
  {
   "cell_type": "code",
   "execution_count": 32,
   "metadata": {},
   "outputs": [
    {
     "name": "stdout",
     "output_type": "stream",
     "text": [
      "   ID_Escola Nome_Escola Tipo_Escola  Numero_Alunos  Orcamento_Anual  \\\n",
      "0          0    Escola A     Publica           2917          1910635   \n",
      "5          5    Escola F  Particular           2283          1319574   \n",
      "\n",
      "   Gasto_Per_Capta  \n",
      "0            655.0  \n",
      "5            578.0  \n"
     ]
    }
   ],
   "source": [
    "import pandas as pd\n",
    "\n",
    "url = \"https://drive.usercontent.google.com/download?id=1Jgto7psHaMRTAVzcFt7D6SgJiHMB7uGT\"\n",
    "\n",
    "escolas = pd.read_csv(url)\n",
    "\n",
    "escolas[\"Gasto_Per_Capta\"] = escolas[\"Orcamento_Anual\"] / escolas[\"Numero_Alunos\"]\n",
    "\n",
    "escola_que_mais_gastou = escolas[\"Gasto_Per_Capta\"].idxmax()\n",
    "escola_que_menos_gastou = escolas[\"Gasto_Per_Capta\"].idxmin()\n",
    "\n",
    "# Escola que mais gastou e menos gastou em ordem respectiva:\n",
    "print(escolas[escolas[\"ID_Escola\"].isin([escola_que_mais_gastou, escola_que_menos_gastou])])\n"
   ]
  }
 ],
 "metadata": {
  "kernelspec": {
   "display_name": ".venv",
   "language": "python",
   "name": "python3"
  },
  "language_info": {
   "codemirror_mode": {
    "name": "ipython",
    "version": 3
   },
   "file_extension": ".py",
   "mimetype": "text/x-python",
   "name": "python",
   "nbconvert_exporter": "python",
   "pygments_lexer": "ipython3",
   "version": "3.12.3"
  }
 },
 "nbformat": 4,
 "nbformat_minor": 2
}
