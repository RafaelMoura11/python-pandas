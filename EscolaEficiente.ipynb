{
 "cells": [
  {
   "cell_type": "code",
   "execution_count": 28,
   "metadata": {},
   "outputs": [
    {
     "name": "stdout",
     "output_type": "stream",
     "text": [
      "   Nome_Escola  Eficiencia\n",
      "5     Escola F    0.144692\n",
      "8     Escola I    0.144250\n",
      "10    Escola K    0.143771\n",
      "6     Escola G    0.143503\n",
      "2     Escola C    0.139238\n",
      "9     Escola J    0.137836\n",
      "4     Escola E    0.133735\n",
      "14    Escola O    0.131070\n",
      "7     Escola H    0.125862\n",
      "11    Escola L    0.123695\n",
      "1     Escola B    0.123529\n",
      "13    Escola N    0.122553\n",
      "12    Escola M    0.121568\n",
      "3     Escola D    0.121338\n",
      "0     Escola A    0.120467\n"
     ]
    }
   ],
   "source": [
    "import pandas as pd\n",
    "\n",
    "escolas = pd.read_csv('https://drive.google.com/uc?id=1Jgto7psHaMRTAVzcFt7D6SgJiHMB7uGT')\n",
    "estudantes = pd.read_csv('https://drive.google.com/uc?id=15aOJIGAyLMSY1gecjiCgu2ko_riIcKQy')\n",
    "\n",
    "data = pd.merge(estudantes, escolas, how='left', on=[\"Nome_Escola\", \"Nome_Escola\"])\n",
    "\n",
    "data[\"Nota_Media\"] = ((data[\"Nota_Redacao\"] + data[\"Nota_Matematica\"]) / 2)\n",
    "\n",
    "escola_eficiencia = data.groupby(\"Nome_Escola\").agg({\n",
    "    \"Nota_Media\": \"mean\",\n",
    "    \"Numero_Alunos\": \"mean\",\n",
    "    \"Orcamento_Anual\": \"mean\"\n",
    "}).reset_index()\n",
    "\n",
    "escola_eficiencia[\"Eficiencia\"] = escola_eficiencia[\"Nota_Media\"] * escola_eficiencia[\"Numero_Alunos\"] / escola_eficiencia[\"Orcamento_Anual\"]\n",
    "\n",
    "escola_eficiencia = escola_eficiencia.sort_values(by=\"Eficiencia\", ascending=False)\n",
    "\n",
    "\n",
    "# Pergunta:\n",
    "# Utilize os dados fornecidos neste documento para identificar quais escolas se destacam em termos de\n",
    "# eficiência, de acordo com a definição estabelecida.\n",
    "\n",
    "\n",
    "# Resposta:\n",
    "# A eficiência das escolas foi medida com base na Nota Média, Número de Alunos e Orçamento Anual\n",
    "# Quanto maior a Nota Média, Maior o Número de Alunos e menor o Orçamento Anual\n",
    "# Visto que, NA MINHA VISÃO, ter vários alunos com boas médias e baixo orçamento, é sinônimo de eficiência\n",
    "print(escola_eficiencia[[\"Nome_Escola\", \"Eficiencia\"]])\n",
    "\n",
    "\n",
    "\n",
    "# Pergunta:\n",
    "# Quais diferentes formas de análise, novos resultados ou novas métricas podem\n",
    "# ajudar a avaliar melhor a eficiência das escolas?\n",
    "\n",
    "\n",
    "\n",
    "# Resposta:\n",
    "# Poderiamos levar em consideração o fato de escolas públicas possuirem (em sua maioria)\n",
    "# alunos com rendas mais baixas. Sendo assim, o fator \"Escola Pública\" teria um maior prestígio em relação a\n",
    "# \"Escola Particular\" se olharmos a eficiência"
   ]
  }
 ],
 "metadata": {
  "kernelspec": {
   "display_name": ".venv",
   "language": "python",
   "name": "python3"
  },
  "language_info": {
   "codemirror_mode": {
    "name": "ipython",
    "version": 3
   },
   "file_extension": ".py",
   "mimetype": "text/x-python",
   "name": "python",
   "nbconvert_exporter": "python",
   "pygments_lexer": "ipython3",
   "version": "3.12.3"
  }
 },
 "nbformat": 4,
 "nbformat_minor": 2
}
