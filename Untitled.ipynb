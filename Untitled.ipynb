{
 "cells": [
  {
   "cell_type": "code",
   "execution_count": 68,
   "id": "df4f4963-027d-4e28-92a2-446d96fb250c",
   "metadata": {},
   "outputs": [
    {
     "name": "stdout",
     "output_type": "stream",
     "text": [
      "Total de pessoas da terceira classe: 491\n",
      "Total de pessoas da terceira classe mortas: 372\n",
      "Porcentagem de mortos na terceira classe: 75.76%\n",
      "-------------------------------------------------------------------\n",
      "Total de pessoas da segunda classe: 184\n",
      "Total de pessoas da segunda classe mortas: 97\n",
      "Porcentagem de mortos na segunda classe: 52.72%\n",
      "-------------------------------------------------------------------\n",
      "Total de pessoas da primeira classe: 216\n",
      "Total de pessoas da primeira classe mortas: 80\n",
      "Porcentagem de mortos na primeira classe: 37.04%\n"
     ]
    }
   ],
   "source": [
    "import pandas as pd\n",
    "\n",
    "titanic = pd.read_csv(\"data/titanic.csv\")\n",
    "\n",
    "third_class = titanic[titanic[\"Pclass\"] == 3]\n",
    "\n",
    "second_class = titanic[titanic[\"Pclass\"] == 2]\n",
    "\n",
    "first_class = titanic[titanic[\"Pclass\"] == 1]\n",
    "\n",
    "total_third_class = int(third_class.count().PassengerId)\n",
    "dead_third_class = third_class[third_class[\"Survived\"] == 0].count().PassengerId\n",
    "\n",
    "\n",
    "total_second_class = int(second_class.count().PassengerId)\n",
    "dead_second_class = second_class[second_class[\"Survived\"] == 0].count().PassengerId\n",
    "\n",
    "total_first_class = int(first_class.count().PassengerId)\n",
    "dead_first_class = first_class[first_class[\"Survived\"] == 0].count().PassengerId\n",
    "\n",
    "percentage_dead_third_class = (dead_third_class / total_third_class) * 100\n",
    "percentage_dead_second_class = (dead_second_class / total_second_class) * 100\n",
    "percentage_dead_first_class = (dead_first_class / total_first_class) * 100\n",
    "\n",
    "print(\"Total de pessoas da terceira classe:\", total_third_class)\n",
    "print(\"Total de pessoas da terceira classe mortas:\", dead_third_class)\n",
    "print(\"Porcentagem de mortos na terceira classe: {:.2f}%\".format(percentage_dead_third_class))\n",
    "print('-------------------------------------------------------------------')\n",
    "print(\"Total de pessoas da segunda classe:\", total_second_class)\n",
    "print(\"Total de pessoas da segunda classe mortas:\", dead_second_class)\n",
    "print(\"Porcentagem de mortos na segunda classe: {:.2f}%\".format(percentage_dead_second_class))\n",
    "print('-------------------------------------------------------------------')\n",
    "print(\"Total de pessoas da primeira classe:\", total_first_class)\n",
    "print(\"Total de pessoas da primeira classe mortas:\", dead_first_class)\n",
    "print(\"Porcentagem de mortos na primeira classe: {:.2f}%\".format(percentage_dead_first_class))"
   ]
  },
  {
   "cell_type": "code",
   "execution_count": null,
   "id": "d3114813",
   "metadata": {},
   "outputs": [],
   "source": [
    "import pandas as pd\n",
    "\n",
    "titanic = pd.read_csv(\"data/titanic.csv\")\n",
    "\n",
    "third_class = titanic[titanic[\"Pclass\"] == 3]\n",
    "\n",
    "second_class = titanic[titanic[\"Pclass\"] == 2]\n",
    "\n",
    "first_class = titanic[titanic[\"Pclass\"] == 1]\n",
    "\n",
    "\n",
    "survived_third_class = third_class[third_class[\"Survived\"] == 1].Fare.mean()\n",
    "survived_second_class = second_class[second_class[\"Survived\"] == 1].Fare.mean()\n",
    "survived_first_class = first_class[first_class[\"Survived\"] == 1].Fare.mean()\n",
    "\n",
    "print(f\"Valor médio de um bilhete na terceira classe: {survived_third_class:.2f}\")\n",
    "print(f\"Valor médio de um bilhete na segunda classe: {survived_second_class:.2f}\")\n",
    "print(f\"Valor médio de um bilhete na primeira classe: {survived_first_class:.2f}\")\n"
   ]
  },
  {
   "cell_type": "code",
   "execution_count": 67,
   "id": "b15325cf",
   "metadata": {},
   "outputs": [
    {
     "data": {
      "text/plain": [
       "Cabin\n",
       "A10                                  Ross, Mr. John Hugo\n",
       "A14                          Clifford, Mr. George Quincy\n",
       "A16    Duff Gordon, Lady. (Lucille Christiana Sutherl...\n",
       "A19                           Smith, Mr. Richard William\n",
       "A20         Duff Gordon, Sir. Cosmo Edmund (\"Mr Morgan\")\n",
       "                             ...                        \n",
       "F33    Nye, Mrs. (Elizabeth Ramell)Brown, Miss Amelia...\n",
       "F38                                     Tobin, Mr. Roger\n",
       "F4     Becker, Master Richard FBecker, Miss Marion Lo...\n",
       "G6     Sandstrom, Miss Marguerite RutStrom, Miss Telm...\n",
       "T                           Blackwell, Mr. Stephen Weart\n",
       "Name: Name, Length: 147, dtype: object"
      ]
     },
     "execution_count": 67,
     "metadata": {},
     "output_type": "execute_result"
    }
   ],
   "source": [
    "import pandas as pd\n",
    "\n",
    "titanic = pd.read_csv(\"data/titanic.csv\")\n",
    "\n",
    "titanic.groupby('Cabin')['Name'].sum()\n"
   ]
  }
 ],
 "metadata": {
  "kernelspec": {
   "display_name": "Python 3 (ipykernel)",
   "language": "python",
   "name": "python3"
  },
  "language_info": {
   "codemirror_mode": {
    "name": "ipython",
    "version": 3
   },
   "file_extension": ".py",
   "mimetype": "text/x-python",
   "name": "python",
   "nbconvert_exporter": "python",
   "pygments_lexer": "ipython3",
   "version": "3.12.3"
  }
 },
 "nbformat": 4,
 "nbformat_minor": 5
}
