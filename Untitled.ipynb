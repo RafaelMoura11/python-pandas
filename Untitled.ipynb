{
 "cells": [
  {
   "cell_type": "code",
   "execution_count": null,
   "id": "df4f4963-027d-4e28-92a2-446d96fb250c",
   "metadata": {},
   "outputs": [],
   "source": [
    "import pandas as pd\n",
    "\n",
    "titanic = pd.read_csv(\"data/titanic.csv\")\n",
    "\n",
    "third_class = titanic[titanic[\"Pclass\"] == 3]\n",
    "\n",
    "second_class = titanic[titanic[\"Pclass\"] == 2]\n",
    "\n",
    "first_class = titanic[titanic[\"Pclass\"] == 1]\n",
    "\n",
    "total_third_class = int(third_class.count().PassengerId)\n",
    "dead_third_class = third_class[third_class[\"Survived\"] == 0].count().PassengerId\n",
    "\n",
    "\n",
    "total_second_class = int(second_class.count().PassengerId)\n",
    "dead_second_class = second_class[second_class[\"Survived\"] == 0].count().PassengerId\n",
    "\n",
    "total_first_class = int(first_class.count().PassengerId)\n",
    "dead_first_class = first_class[first_class[\"Survived\"] == 0].count().PassengerId\n",
    "\n",
    "percentage_dead_third_class = (dead_third_class / total_third_class) * 100\n",
    "percentage_dead_second_class = (dead_second_class / total_second_class) * 100\n",
    "percentage_dead_first_class = (dead_first_class / total_first_class) * 100\n",
    "\n",
    "print(\"Total de pessoas da terceira classe:\", total_third_class)\n",
    "print(\"Total de pessoas da terceira classe mortas:\", dead_third_class)\n",
    "print(\"Porcentagem de mortos na terceira classe: {:.2f}%\".format(percentage_dead_third_class))\n",
    "print('-------------------------------------------------------------------')\n",
    "print(\"Total de pessoas da segunda classe:\", total_second_class)\n",
    "print(\"Total de pessoas da segunda classe mortas:\", dead_second_class)\n",
    "print(\"Porcentagem de mortos na segunda classe: {:.2f}%\".format(percentage_dead_second_class))\n",
    "print('-------------------------------------------------------------------')\n",
    "print(\"Total de pessoas da primeira classe:\", total_first_class)\n",
    "print(\"Total de pessoas da primeira classe mortas:\", dead_first_class)\n",
    "print(\"Porcentagem de mortos na primeira classe: {:.2f}%\".format(percentage_dead_first_class))"
   ]
  },
  {
   "cell_type": "code",
   "execution_count": 55,
   "id": "d3114813",
   "metadata": {},
   "outputs": [
    {
     "name": "stdout",
     "output_type": "stream",
     "text": [
      "Valor médio de um bilhete na terceira classe: 13.69\n",
      "Valor médio de um bilhete na segunda classe: 22.06\n",
      "Valor médio de um bilhete na primeira classe: 95.61\n"
     ]
    }
   ],
   "source": [
    "import pandas as pd\n",
    "\n",
    "titanic = pd.read_csv(\"data/titanic.csv\")\n",
    "\n",
    "third_class = titanic[titanic[\"Pclass\"] == 3]\n",
    "\n",
    "second_class = titanic[titanic[\"Pclass\"] == 2]\n",
    "\n",
    "first_class = titanic[titanic[\"Pclass\"] == 1]\n",
    "\n",
    "\n",
    "survived_third_class = third_class[third_class[\"Survived\"] == 1].Fare.mean()\n",
    "survived_second_class = second_class[second_class[\"Survived\"] == 1].Fare.mean()\n",
    "survived_first_class = first_class[first_class[\"Survived\"] == 1].Fare.mean()\n",
    "\n",
    "print(f\"Valor médio de um bilhete na terceira classe: {survived_third_class:.2f}\")\n",
    "print(f\"Valor médio de um bilhete na segunda classe: {survived_second_class:.2f}\")\n",
    "print(f\"Valor médio de um bilhete na primeira classe: {survived_first_class:.2f}\")\n"
   ]
  }
 ],
 "metadata": {
  "kernelspec": {
   "display_name": "Python 3 (ipykernel)",
   "language": "python",
   "name": "python3"
  },
  "language_info": {
   "codemirror_mode": {
    "name": "ipython",
    "version": 3
   },
   "file_extension": ".py",
   "mimetype": "text/x-python",
   "name": "python",
   "nbconvert_exporter": "python",
   "pygments_lexer": "ipython3",
   "version": "3.12.3"
  }
 },
 "nbformat": 4,
 "nbformat_minor": 5
}
